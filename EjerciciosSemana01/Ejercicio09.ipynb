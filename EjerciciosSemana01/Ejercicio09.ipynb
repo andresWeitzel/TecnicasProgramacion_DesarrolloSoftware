{
 "cells": [
  {
   "cell_type": "code",
   "execution_count": 1,
   "id": "43e42494",
   "metadata": {},
   "outputs": [
    {
     "data": {
      "text/plain": [
       "'\\n9) Ingresar la cantidad de días que vivió, informar cuantos años vivió.\\n'"
      ]
     },
     "execution_count": 1,
     "metadata": {},
     "output_type": "execute_result"
    }
   ],
   "source": [
    "'''\n",
    "9) Ingresar la cantidad de días que vivió, informar cuantos años vivió.\n",
    "'''"
   ]
  },
  {
   "cell_type": "code",
   "execution_count": 4,
   "id": "bc119ff1",
   "metadata": {},
   "outputs": [
    {
     "name": "stdout",
     "output_type": "stream",
     "text": [
      "Ingresar la Cantidad de Días: 834343\n",
      "\n",
      "====================================================\n",
      "Edad respecto de los Días Ingresados:  2285  años\n"
     ]
    }
   ],
   "source": [
    "try:\n",
    "    dias=int(input(\"Ingresar la Cantidad de Días: \"))\n",
    "    edad=int(dias/365)\n",
    "\n",
    "    print(\"\\n====================================================\")\n",
    "    print(\"Edad respecto de los Días Ingresados: \",edad,\" años\")\n",
    "\n",
    "except ValueError as err:\n",
    "    print(err)"
   ]
  },
  {
   "cell_type": "code",
   "execution_count": null,
   "id": "33917d04",
   "metadata": {},
   "outputs": [],
   "source": []
  }
 ],
 "metadata": {
  "kernelspec": {
   "display_name": "Python 3",
   "language": "python",
   "name": "python3"
  },
  "language_info": {
   "codemirror_mode": {
    "name": "ipython",
    "version": 3
   },
   "file_extension": ".py",
   "mimetype": "text/x-python",
   "name": "python",
   "nbconvert_exporter": "python",
   "pygments_lexer": "ipython3",
   "version": "3.8.3"
  }
 },
 "nbformat": 4,
 "nbformat_minor": 5
}
