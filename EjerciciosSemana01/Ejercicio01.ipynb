{
 "cells": [
  {
   "cell_type": "code",
   "execution_count": 1,
   "id": "3e2693b0",
   "metadata": {},
   "outputs": [
    {
     "data": {
      "text/plain": [
       "'\\n1) Corregir el código para cumplir con la consigna.\\nIngresar 3 números enteros y sumarlos en una variable nueva. Mostrar el resultado.\\n\\na=int(input(“Ingrese el primer número:”))\\nb=int(input(“Ingrese el segundo número:”))\\ntotal=a+b\\nprint(“Suma:”,total)\\n\\n\\n'"
      ]
     },
     "execution_count": 1,
     "metadata": {},
     "output_type": "execute_result"
    }
   ],
   "source": [
    "'''\n",
    "1) Corregir el código para cumplir con la consigna.\n",
    "Ingresar 3 números enteros y sumarlos en una variable nueva. Mostrar el resultado.\n",
    "\n",
    "a=int(input(“Ingrese el primer número:”))\n",
    "b=int(input(“Ingrese el segundo número:”))\n",
    "total=a+b\n",
    "print(“Suma:”,total)\n",
    "\n",
    "\n",
    "'''"
   ]
  },
  {
   "cell_type": "code",
   "execution_count": 6,
   "id": "5b31eb2e",
   "metadata": {},
   "outputs": [
    {
     "name": "stdout",
     "output_type": "stream",
     "text": [
      "Ingresar el Primer Número:3\n",
      "Ingresar el Segundo Número:3\n",
      "Ingresar el Tercer Número:3\n",
      "\n",
      "====================================================\n",
      "Suma de los Números Ingresados: 9\n"
     ]
    }
   ],
   "source": [
    "try:\n",
    "    primerNumero=int(input(\"Ingresar el Primer Número:\"))\n",
    "    segundoNumero=int(input(\"Ingresar el Segundo Número:\"))\n",
    "    tercerNumero=int(input(\"Ingresar el Tercer Número:\"))\n",
    "    \n",
    "    print(\"\\n====================================================\")\n",
    "    resultado=primerNumero+segundoNumero+tercerNumero\n",
    "    \n",
    "    print(\"Suma de los Números Ingresados:\",resultado)\n",
    "\n",
    "except ValueError as err:\n",
    "    print(err)"
   ]
  },
  {
   "cell_type": "code",
   "execution_count": null,
   "id": "fec6d59a",
   "metadata": {},
   "outputs": [],
   "source": []
  }
 ],
 "metadata": {
  "kernelspec": {
   "display_name": "Python 3",
   "language": "python",
   "name": "python3"
  },
  "language_info": {
   "codemirror_mode": {
    "name": "ipython",
    "version": 3
   },
   "file_extension": ".py",
   "mimetype": "text/x-python",
   "name": "python",
   "nbconvert_exporter": "python",
   "pygments_lexer": "ipython3",
   "version": "3.8.3"
  }
 },
 "nbformat": 4,
 "nbformat_minor": 5
}
