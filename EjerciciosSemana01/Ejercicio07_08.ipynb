{
 "cells": [
  {
   "cell_type": "code",
   "execution_count": 1,
   "id": "3a7bc957",
   "metadata": {},
   "outputs": [
    {
     "data": {
      "text/plain": [
       "'\\n7) Ingresar la edad. Informar cuantas décadas vivió.\\n8) Ingresar la edad. Informar cuantos días vivió\\n\\n'"
      ]
     },
     "execution_count": 1,
     "metadata": {},
     "output_type": "execute_result"
    }
   ],
   "source": [
    "'''\n",
    "7) Ingresar la edad. Informar cuantas décadas vivió.\n",
    "8) Ingresar la edad. Informar cuantos días vivió\n",
    "\n",
    "'''\n"
   ]
  },
  {
   "cell_type": "code",
   "execution_count": 3,
   "id": "1cd26967",
   "metadata": {},
   "outputs": [
    {
     "name": "stdout",
     "output_type": "stream",
     "text": [
      "Ingresar la Edad: 23\n",
      "\n",
      "====================================================\n",
      "Decadas de la Edad Ingresada:  2.3000000000000003\n"
     ]
    }
   ],
   "source": [
    "try:\n",
    "    edad=int(input(\"Ingresar la Edad: \"))\n",
    "    decadas=edad*0.1\n",
    "\n",
    "    print(\"\\n====================================================\")\n",
    "    print(\"Decadas de la Edad Ingresada: \",decadas)\n",
    "\n",
    "except ValueError as err:\n",
    "    print(err)"
   ]
  },
  {
   "cell_type": "code",
   "execution_count": 4,
   "id": "e7925d85",
   "metadata": {},
   "outputs": [
    {
     "name": "stdout",
     "output_type": "stream",
     "text": [
      "Ingresar la Edad: 2\n",
      "\n",
      "====================================================\n",
      "Días de la Edad Ingresada:  730\n"
     ]
    }
   ],
   "source": [
    "try:\n",
    "    edad=int(input(\"Ingresar la Edad: \"))\n",
    "    dias=edad*365\n",
    "\n",
    "    print(\"\\n====================================================\")\n",
    "    print(\"Días de la Edad Ingresada: \",dias)\n",
    "\n",
    "except ValueError as err:\n",
    "    print(err)"
   ]
  },
  {
   "cell_type": "code",
   "execution_count": null,
   "id": "25c4d872",
   "metadata": {},
   "outputs": [],
   "source": []
  }
 ],
 "metadata": {
  "kernelspec": {
   "display_name": "Python 3",
   "language": "python",
   "name": "python3"
  },
  "language_info": {
   "codemirror_mode": {
    "name": "ipython",
    "version": 3
   },
   "file_extension": ".py",
   "mimetype": "text/x-python",
   "name": "python",
   "nbconvert_exporter": "python",
   "pygments_lexer": "ipython3",
   "version": "3.8.3"
  }
 },
 "nbformat": 4,
 "nbformat_minor": 5
}
