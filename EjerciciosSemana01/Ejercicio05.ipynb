{
 "cells": [
  {
   "cell_type": "code",
   "execution_count": 1,
   "id": "60e48c02",
   "metadata": {},
   "outputs": [
    {
     "data": {
      "text/plain": [
       "'\\n5) Ingresar un número entero y un real, dividir el real por el entero en una variable nueva.\\nMostrar el resultado.\\n\\n'"
      ]
     },
     "execution_count": 1,
     "metadata": {},
     "output_type": "execute_result"
    }
   ],
   "source": [
    "'''\n",
    "5) Ingresar un número entero y un real, dividir el real por el entero en una variable nueva.\n",
    "Mostrar el resultado.\n",
    "\n",
    "'''"
   ]
  },
  {
   "cell_type": "code",
   "execution_count": 2,
   "id": "04b29114",
   "metadata": {},
   "outputs": [
    {
     "name": "stdout",
     "output_type": "stream",
     "text": [
      "Ingresar el Primer Número:3\n",
      "Ingresar el Segundo Número:3\n",
      "\n",
      "====================================================\n",
      "División de los Números Ingresados: 1.0\n"
     ]
    }
   ],
   "source": [
    "try:\n",
    "    primerNumero=int(input(\"Ingresar el Primer Número:\"))\n",
    "    segundoNumero=float(input(\"Ingresar el Segundo Número:\"))\n",
    "\n",
    "    print(\"\\n====================================================\")\n",
    "    resultado=segundoNumero/primerNumero\n",
    "    \n",
    "    print(\"División de los Números Ingresados:\",resultado)\n",
    "\n",
    "except ValueError as err:\n",
    "    print(err)"
   ]
  },
  {
   "cell_type": "code",
   "execution_count": null,
   "id": "56da7afb",
   "metadata": {},
   "outputs": [],
   "source": []
  }
 ],
 "metadata": {
  "kernelspec": {
   "display_name": "Python 3",
   "language": "python",
   "name": "python3"
  },
  "language_info": {
   "codemirror_mode": {
    "name": "ipython",
    "version": 3
   },
   "file_extension": ".py",
   "mimetype": "text/x-python",
   "name": "python",
   "nbconvert_exporter": "python",
   "pygments_lexer": "ipython3",
   "version": "3.8.3"
  }
 },
 "nbformat": 4,
 "nbformat_minor": 5
}
