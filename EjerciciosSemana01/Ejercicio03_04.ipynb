{
 "cells": [
  {
   "cell_type": "code",
   "execution_count": 1,
   "id": "53cc535b",
   "metadata": {},
   "outputs": [
    {
     "data": {
      "text/plain": [
       "'\\n3) Ingresar 2 números enteros y sumarlos en una variable nueva. Mostrar el resultado.\\n4) Ingresar 2 números reales y multiplicarlos en una variable nueva. Mostrar el resultado.\\n\\n'"
      ]
     },
     "execution_count": 1,
     "metadata": {},
     "output_type": "execute_result"
    }
   ],
   "source": [
    "'''\n",
    "3) Ingresar 2 números enteros y sumarlos en una variable nueva. Mostrar el resultado.\n",
    "4) Ingresar 2 números reales y multiplicarlos en una variable nueva. Mostrar el resultado.\n",
    "\n",
    "'''"
   ]
  },
  {
   "cell_type": "code",
   "execution_count": 3,
   "id": "13ad1ba9",
   "metadata": {},
   "outputs": [
    {
     "name": "stdout",
     "output_type": "stream",
     "text": [
      "Ingresar el Primer Número:2\n",
      "Ingresar el Segundo Número:2\n",
      "\n",
      "====================================================\n",
      "Suma de los Números Ingresados: 4\n"
     ]
    }
   ],
   "source": [
    "try:\n",
    "    primerNumero=int(input(\"Ingresar el Primer Número:\"))\n",
    "    segundoNumero=int(input(\"Ingresar el Segundo Número:\"))\n",
    "\n",
    "    print(\"\\n====================================================\")\n",
    "    resultado=primerNumero+segundoNumero\n",
    "    \n",
    "    print(\"Suma de los Números Ingresados:\",resultado)\n",
    "\n",
    "except ValueError as err:\n",
    "    print(err)"
   ]
  },
  {
   "cell_type": "code",
   "execution_count": 5,
   "id": "6c06b844",
   "metadata": {},
   "outputs": [
    {
     "name": "stdout",
     "output_type": "stream",
     "text": [
      "Ingresar el Primer Número:2\n",
      "Ingresar el Segundo Número:2\n",
      "\n",
      "====================================================\n",
      "Multiplicación de los Números Ingresados: 4.0\n"
     ]
    }
   ],
   "source": [
    "try:\n",
    "    primerNumero=float(input(\"Ingresar el Primer Número:\"))\n",
    "    segundoNumero=float(input(\"Ingresar el Segundo Número:\"))\n",
    "\n",
    "    print(\"\\n====================================================\")\n",
    "    resultado=primerNumero*segundoNumero\n",
    "    \n",
    "    print(\"Multiplicación de los Números Ingresados:\",resultado)\n",
    "\n",
    "except ValueError as err:\n",
    "    print(err)"
   ]
  },
  {
   "cell_type": "code",
   "execution_count": null,
   "id": "7d60d04b",
   "metadata": {},
   "outputs": [],
   "source": []
  }
 ],
 "metadata": {
  "kernelspec": {
   "display_name": "Python 3",
   "language": "python",
   "name": "python3"
  },
  "language_info": {
   "codemirror_mode": {
    "name": "ipython",
    "version": 3
   },
   "file_extension": ".py",
   "mimetype": "text/x-python",
   "name": "python",
   "nbconvert_exporter": "python",
   "pygments_lexer": "ipython3",
   "version": "3.8.3"
  }
 },
 "nbformat": 4,
 "nbformat_minor": 5
}
