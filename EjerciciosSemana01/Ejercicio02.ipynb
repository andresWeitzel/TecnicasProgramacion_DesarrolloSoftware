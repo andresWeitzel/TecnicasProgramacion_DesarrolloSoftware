{
 "cells": [
  {
   "cell_type": "code",
   "execution_count": 1,
   "id": "421b8288",
   "metadata": {},
   "outputs": [
    {
     "data": {
      "text/plain": [
       "'\\n\\n2) Corregir el código para cumplir con la consigna.\\nIngresar 2 números reales y dividirlos en una variable nueva. Mostrar el resultado.\\n\\ndividendo=int(input(“Ingrese el Dividendo:”))\\ndivisor=int(input(“Ingrese el divisor:”))\\nresultado=divisor/dividendo\\nprint(“División:”,resultado)\\n\\n'"
      ]
     },
     "execution_count": 1,
     "metadata": {},
     "output_type": "execute_result"
    }
   ],
   "source": [
    "'''\n",
    "\n",
    "2) Corregir el código para cumplir con la consigna.\n",
    "Ingresar 2 números reales y dividirlos en una variable nueva. Mostrar el resultado.\n",
    "\n",
    "dividendo=int(input(“Ingrese el Dividendo:”))\n",
    "divisor=int(input(“Ingrese el divisor:”))\n",
    "resultado=divisor/dividendo\n",
    "print(“División:”,resultado)\n",
    "\n",
    "'''"
   ]
  },
  {
   "cell_type": "code",
   "execution_count": 2,
   "id": "e2b4b51b",
   "metadata": {},
   "outputs": [
    {
     "name": "stdout",
     "output_type": "stream",
     "text": [
      "Ingresar el Dividendo:12\n",
      "Ingresar el Divisor:12\n",
      "\n",
      "====================================================\n",
      "El Resultado de la División de los valores Ingresados es: 1.0\n"
     ]
    }
   ],
   "source": [
    "try:\n",
    "    dividendo=float(input(\"Ingresar el Dividendo:\"))\n",
    "    divisor=float(input(\"Ingresar el Divisor:\"))\n",
    "    \n",
    "    print(\"\\n====================================================\")\n",
    "    resultado=dividendo/divisor\n",
    "    \n",
    "    print(\"El Resultado de la División de los valores Ingresados es:\",resultado)\n",
    "\n",
    "except ValueError as err:\n",
    "    print(err)"
   ]
  },
  {
   "cell_type": "code",
   "execution_count": null,
   "id": "ab8003e1",
   "metadata": {},
   "outputs": [],
   "source": []
  }
 ],
 "metadata": {
  "kernelspec": {
   "display_name": "Python 3",
   "language": "python",
   "name": "python3"
  },
  "language_info": {
   "codemirror_mode": {
    "name": "ipython",
    "version": 3
   },
   "file_extension": ".py",
   "mimetype": "text/x-python",
   "name": "python",
   "nbconvert_exporter": "python",
   "pygments_lexer": "ipython3",
   "version": "3.8.3"
  }
 },
 "nbformat": 4,
 "nbformat_minor": 5
}
