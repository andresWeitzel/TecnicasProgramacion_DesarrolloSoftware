{
 "cells": [
  {
   "cell_type": "code",
   "execution_count": 1,
   "id": "8cd91a95",
   "metadata": {},
   "outputs": [
    {
     "data": {
      "text/plain": [
       "'\\n\\n6) Ingresar 2 textos, concatenarlos en una variable nueva. Mostrar el resultado.\\n\\n'"
      ]
     },
     "execution_count": 1,
     "metadata": {},
     "output_type": "execute_result"
    }
   ],
   "source": [
    "'''\n",
    "\n",
    "6) Ingresar 2 textos, concatenarlos en una variable nueva. Mostrar el resultado.\n",
    "\n",
    "'''"
   ]
  },
  {
   "cell_type": "code",
   "execution_count": 4,
   "id": "dbe54039",
   "metadata": {},
   "outputs": [
    {
     "name": "stdout",
     "output_type": "stream",
     "text": [
      "Ingresar el Primer Texto:La \n",
      "Ingresar el Segundo Texto:casa\n",
      "\n",
      "====================================================\n",
      "La Concatenación de los Textos Ingresados:  La casa\n"
     ]
    }
   ],
   "source": [
    "try:\n",
    "    primerTexto=str(input(\"Ingresar el Primer Texto:\"))\n",
    "    segundoTexto=str(input(\"Ingresar el Segundo Texto:\"))\n",
    "\n",
    "    print(\"\\n====================================================\")\n",
    "    resultado=primerTexto+segundoTexto\n",
    "    \n",
    "    print(\"La Concatenación de los Textos Ingresados: \",resultado)\n",
    "\n",
    "except ValueError as err:\n",
    "    print(err)"
   ]
  },
  {
   "cell_type": "code",
   "execution_count": null,
   "id": "c89002cc",
   "metadata": {},
   "outputs": [],
   "source": []
  }
 ],
 "metadata": {
  "kernelspec": {
   "display_name": "Python 3",
   "language": "python",
   "name": "python3"
  },
  "language_info": {
   "codemirror_mode": {
    "name": "ipython",
    "version": 3
   },
   "file_extension": ".py",
   "mimetype": "text/x-python",
   "name": "python",
   "nbconvert_exporter": "python",
   "pygments_lexer": "ipython3",
   "version": "3.8.3"
  }
 },
 "nbformat": 4,
 "nbformat_minor": 5
}
